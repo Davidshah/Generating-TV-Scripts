{
 "cells": [
  {
   "cell_type": "markdown",
   "metadata": {
    "deletable": true,
    "editable": true
   },
   "source": [
    "# TV Script Generation\n",
    "In this project, we'll generate your own [Simpsons](https://en.wikipedia.org/wiki/The_Simpsons) TV scripts using RNNs.  We'll be using part of the [Simpsons dataset](https://www.kaggle.com/wcukierski/the-simpsons-by-the-data) of scripts from 27 seasons.  The Neural Network we'll build will generate a new TV script for a scene at [Moe's Tavern](https://simpsonswiki.com/wiki/Moe's_Tavern).\n",
    "## Get the Data\n",
    "The data is already provided.  We'll be using a subset of the original dataset.  It consists of only the scenes in Moe's Tavern.  This doesn't include other versions of the tavern, like \"Moe's Cavern\", \"Flaming Moe's\", \"Uncle Moe's Family Feed-Bag\", etc.."
   ]
  },
  {
   "cell_type": "code",
   "execution_count": 1,
   "metadata": {
    "collapsed": false,
    "deletable": true,
    "editable": true
   },
   "outputs": [],
   "source": [
    "import helper\n",
    "\n",
    "data_dir = './data/simpsons/moes_tavern_lines.txt'\n",
    "text = helper.load_data(data_dir)\n",
    "# Ignore notice, since we don't use it for analysing the data\n",
    "text = text[81:]"
   ]
  },
  {
   "cell_type": "markdown",
   "metadata": {
    "deletable": true,
    "editable": true
   },
   "source": [
    "## Explore the Data\n",
    "Play around with `view_sentence_range` to view different parts of the data."
   ]
  },
  {
   "cell_type": "code",
   "execution_count": 2,
   "metadata": {
    "collapsed": false,
    "deletable": true,
    "editable": true
   },
   "outputs": [
    {
     "name": "stdout",
     "output_type": "stream",
     "text": [
      "Dataset Stats\n",
      "Roughly the number of unique words: 11492\n",
      "Number of scenes: 262\n",
      "Average number of sentences in each scene: 15.251908396946565\n",
      "Number of lines: 4258\n",
      "Average number of words in each line: 11.50164396430249\n",
      "\n",
      "The sentences 10 to 25:\n",
      "\n",
      "Moe_Szyslak: Ah, isn't that nice. Now, there is a politician who cares.\n",
      "Barney_Gumble: If I ever vote, it'll be for him. (BELCH)\n",
      "\n",
      "\n",
      "Barney_Gumble: Hey Homer, how's your neighbor's store doing?\n",
      "Homer_Simpson: Lousy. He just sits there all day. He'd have a great job if he didn't own the place. (CHUCKLES)\n",
      "Moe_Szyslak: (STRUGGLING WITH CORKSCREW) Crummy right-handed corkscrews! What does he sell?\n",
      "Homer_Simpson: Uh, well actually, Moe...\n",
      "HOMER_(CONT'D: I dunno.\n",
      "\n",
      "\n",
      "Moe_Szyslak: Looks like this is the end.\n",
      "Barney_Gumble: That's all right. I couldn't have led a richer life.\n",
      "Barney_Gumble: So the next time somebody tells you county folk are good, honest people, you can spit in their faces for me!\n"
     ]
    }
   ],
   "source": [
    "view_sentence_range = (10, 25)\n",
    "\n",
    "import numpy as np\n",
    "\n",
    "print('Dataset Stats')\n",
    "print('Roughly the number of unique words: {}'.format(len({word: None for word in text.split()})))\n",
    "scenes = text.split('\\n\\n')\n",
    "print('Number of scenes: {}'.format(len(scenes)))\n",
    "sentence_count_scene = [scene.count('\\n') for scene in scenes]\n",
    "print('Average number of sentences in each scene: {}'.format(np.average(sentence_count_scene)))\n",
    "\n",
    "sentences = [sentence for scene in scenes for sentence in scene.split('\\n')]\n",
    "print('Number of lines: {}'.format(len(sentences)))\n",
    "word_count_sentence = [len(sentence.split()) for sentence in sentences]\n",
    "print('Average number of words in each line: {}'.format(np.average(word_count_sentence)))\n",
    "\n",
    "print()\n",
    "print('The sentences {} to {}:'.format(*view_sentence_range))\n",
    "print('\\n'.join(text.split('\\n')[view_sentence_range[0]:view_sentence_range[1]]))"
   ]
  },
  {
   "cell_type": "markdown",
   "metadata": {
    "deletable": true,
    "editable": true
   },
   "source": [
    "## Implement Preprocessing Functions\n",
    "The first thing to do to any dataset is preprocessing. Well implement the following preprocessing functions:\n",
    "- Lookup Table\n",
    "- Tokenize Punctuation\n",
    "\n",
    "### Lookup Table\n",
    "To create a word embedding, we first need to transform the words to ids. In this function we'll create two dictionaries:\n",
    "- Dictionary to go from the words to an id, we'll call `vocab_to_int`\n",
    "- Dictionary to go from the id to word, we'll call `int_to_vocab`"
   ]
  },
  {
   "cell_type": "code",
   "execution_count": 3,
   "metadata": {
    "collapsed": false,
    "deletable": true,
    "editable": true
   },
   "outputs": [
    {
     "name": "stdout",
     "output_type": "stream",
     "text": [
      "Tests Passed\n"
     ]
    }
   ],
   "source": [
    "import numpy as np\n",
    "import problem_unittests as tests\n",
    "from collections import Counter\n",
    "\n",
    "def create_lookup_tables(text):\n",
    "    \"\"\"\n",
    "    Create lookup tables for vocabulary\n",
    "    :param text: The text of tv scripts split into words\n",
    "    :return: A tuple of dicts (vocab_to_int, int_to_vocab)\n",
    "    \"\"\"\n",
    "    counts = Counter(text)\n",
    "    vocab = sorted(counts, key=counts.get, reverse=True)\n",
    "    vocab_to_int = {word: ii for ii, word in enumerate(vocab)}\n",
    "    int_to_vocab = {v:k for k, v in vocab_to_int.items()}\n",
    "    \n",
    "    return (vocab_to_int, int_to_vocab)\n",
    "\n",
    "\n",
    "tests.test_create_lookup_tables(create_lookup_tables)"
   ]
  },
  {
   "cell_type": "markdown",
   "metadata": {
    "deletable": true,
    "editable": true
   },
   "source": [
    "### Tokenize Punctuation\n",
    "We'll be splitting the script into a word array using spaces as delimiters. However, punctuations like periods and exclamation marks make it hard for the neural network to distinguish between the word \"bye\" and \"bye!\".\n",
    "\n",
    "We'll implement the function `token_lookup` to return a dict that will be used to tokenize symbols like \"!\" into \"||Exclamation_Mark||\" and create a dictionary for the following symbols where the symbol is the key and value is the token:\n",
    "- Period ( . )\n",
    "- Comma ( , )\n",
    "- Quotation Mark ( \" )\n",
    "- Semicolon ( ; )\n",
    "- Exclamation mark ( ! )\n",
    "- Question mark ( ? )\n",
    "- Left Parentheses ( ( )\n",
    "- Right Parentheses ( ) )\n",
    "- Dash ( -- )\n",
    "- Return ( \\n )\n",
    "\n",
    "This dictionary will be used to token the symbols and add the delimiter (space) around it. This separates the symbols as it's own word, making it easier for the neural network to predict on the next word."
   ]
  },
  {
   "cell_type": "code",
   "execution_count": 4,
   "metadata": {
    "collapsed": false,
    "deletable": true,
    "editable": true
   },
   "outputs": [
    {
     "name": "stdout",
     "output_type": "stream",
     "text": [
      "Tests Passed\n"
     ]
    }
   ],
   "source": [
    "def token_lookup():\n",
    "    \"\"\"\n",
    "    Generate a dict to turn punctuation into a token.\n",
    "    :return: Tokenize dictionary where the key is the punctuation and the value is the token\n",
    "    \"\"\"\n",
    "    symbols={\".\":\"||Period||\",\n",
    "             \",\":\"||Comma||\",\n",
    "             '\"':\"||Quotation_Mark||\",\n",
    "             \";\":\"||Semicolon||\",\n",
    "             \"!\":\"||Exclamation_Mark||\",\n",
    "             \"?\":\"||Question_Mark||\",\n",
    "             \"(\":\"||Left_Parentheses||\",\n",
    "             \")\":\"||Right_Parentheses||\",\n",
    "             \"--\":\"||Dash||\",\n",
    "             \"\\n\":\"||Return||\"}\n",
    "    \n",
    "    return symbols\n",
    "\n",
    "\n",
    "tests.test_tokenize(token_lookup)"
   ]
  },
  {
   "cell_type": "markdown",
   "metadata": {
    "deletable": true,
    "editable": true
   },
   "source": [
    "## Preprocess all the data and save it\n",
    "Running the code cell below will preprocess all the data and save it to file."
   ]
  },
  {
   "cell_type": "code",
   "execution_count": 5,
   "metadata": {
    "collapsed": false,
    "deletable": true,
    "editable": true
   },
   "outputs": [],
   "source": [
    "# Preprocess Training, Validation, and Testing Data\n",
    "helper.preprocess_and_save_data(data_dir, token_lookup, create_lookup_tables)"
   ]
  },
  {
   "cell_type": "markdown",
   "metadata": {
    "deletable": true,
    "editable": true
   },
   "source": [
    "# Check Point\n",
    "This is our first checkpoint. If we ever decide to come back to this notebook or have to restart the notebook, we can start from here. The preprocessed data has been saved to disk."
   ]
  },
  {
   "cell_type": "code",
   "execution_count": 6,
   "metadata": {
    "collapsed": false,
    "deletable": true,
    "editable": true
   },
   "outputs": [],
   "source": [
    "import helper\n",
    "import numpy as np\n",
    "import problem_unittests as tests\n",
    "\n",
    "int_text, vocab_to_int, int_to_vocab, token_dict = helper.load_preprocess()"
   ]
  },
  {
   "cell_type": "markdown",
   "metadata": {
    "deletable": true,
    "editable": true
   },
   "source": [
    "## Build the Neural Network\n",
    "We'll build the components necessary to build a RNN by implementing the following functions below:\n",
    "- get_inputs\n",
    "- get_init_cell\n",
    "- get_embed\n",
    "- build_rnn\n",
    "- build_nn\n",
    "- get_batches\n",
    "\n",
    "### Check the Version of TensorFlow and Access to GPU\n",
    "Let's first check that we are on the same version of TensorFlow."
   ]
  },
  {
   "cell_type": "code",
   "execution_count": 7,
   "metadata": {
    "collapsed": false
   },
   "outputs": [
    {
     "name": "stdout",
     "output_type": "stream",
     "text": [
      "TensorFlow Version: 1.0.1\n",
      "Default GPU Device: /gpu:0\n"
     ]
    }
   ],
   "source": [
    "from distutils.version import LooseVersion\n",
    "import warnings\n",
    "import tensorflow as tf\n",
    "\n",
    "# Check TensorFlow Version\n",
    "assert LooseVersion(tf.__version__) >= LooseVersion('1.0'), 'Please use TensorFlow version 1.0 or newer'\n",
    "print('TensorFlow Version: {}'.format(tf.__version__))\n",
    "\n",
    "# Check for a GPU\n",
    "if not tf.test.gpu_device_name():\n",
    "    warnings.warn('No GPU found. Please use a GPU to train your neural network.')\n",
    "else:\n",
    "    print('Default GPU Device: {}'.format(tf.test.gpu_device_name()))"
   ]
  },
  {
   "cell_type": "markdown",
   "metadata": {},
   "source": [
    "### Input\n",
    "Let's implement the `get_inputs()` function to create TF Placeholders for the Neural Network. It should create the following placeholders:\n",
    "- Input text placeholder named \"input\" using the [TF Placeholder](https://www.tensorflow.org/api_docs/python/tf/placeholder) `name` parameter.\n",
    "- Targets placeholder\n",
    "- Learning Rate placeholder\n",
    "\n",
    "Returning the placeholders in the following the tuple `(Input, Targets, LearingRate)`"
   ]
  },
  {
   "cell_type": "code",
   "execution_count": 8,
   "metadata": {
    "collapsed": false,
    "deletable": true,
    "editable": true
   },
   "outputs": [
    {
     "name": "stdout",
     "output_type": "stream",
     "text": [
      "Tests Passed\n"
     ]
    }
   ],
   "source": [
    "def get_inputs():\n",
    "    \"\"\"\n",
    "    Create TF Placeholders for input, targets, and learning rate.\n",
    "    :return: Tuple (input, targets, learning rate)\n",
    "    \"\"\"\n",
    "    inputs = tf.placeholder(tf.int32, (None,None), name=\"input\")\n",
    "    targets = tf.placeholder(tf.int32, (None,None), name=\"targets\")\n",
    "    learning_rate = tf.placeholder(tf.float32, name=\"learning_rate\")\n",
    "    \n",
    "    return (inputs, targets, learning_rate)\n",
    "\n",
    "\n",
    "tests.test_get_inputs(get_inputs)"
   ]
  },
  {
   "cell_type": "markdown",
   "metadata": {
    "deletable": true,
    "editable": true
   },
   "source": [
    "### Build RNN Cell and Initialize\n",
    "Let's stack one or more [`BasicLSTMCells`](https://www.tensorflow.org/api_docs/python/tf/contrib/rnn/BasicLSTMCell) in a [`MultiRNNCell`](https://www.tensorflow.org/api_docs/python/tf/contrib/rnn/MultiRNNCell).\n",
    "- The Rnn size should be set using `rnn_size`\n",
    "- Initalize Cell State using the MultiRNNCell's [`zero_state()`](https://www.tensorflow.org/api_docs/python/tf/contrib/rnn/MultiRNNCell#zero_state) function\n",
    "- Apply the name \"initial_state\" to the initial state using [`tf.identity()`](https://www.tensorflow.org/api_docs/python/tf/identity)\n",
    "\n",
    "Return the cell and initial state in the following tuple `(Cell, InitialState)`"
   ]
  },
  {
   "cell_type": "code",
   "execution_count": 9,
   "metadata": {
    "collapsed": false,
    "deletable": true,
    "editable": true
   },
   "outputs": [
    {
     "name": "stdout",
     "output_type": "stream",
     "text": [
      "Tests Passed\n"
     ]
    }
   ],
   "source": [
    "def get_init_cell(batch_size, rnn_size):\n",
    "    \"\"\"\n",
    "    Create an RNN Cell and initialize it.\n",
    "    :param batch_size: Size of batches\n",
    "    :param rnn_size: Size of RNNs\n",
    "    :return: Tuple (cell, initialize state)\n",
    "    \"\"\"\n",
    "    lstm = tf.contrib.rnn.BasicLSTMCell(rnn_size)\n",
    "    cell = tf.contrib.rnn.MultiRNNCell([lstm, lstm])\n",
    "    initial_state = cell.zero_state(batch_size, tf.float32)\n",
    "    initial_state = tf.identity(initial_state, name=\"initial_state\")\n",
    "    \n",
    "    return (cell, initial_state)\n",
    "\n",
    "\n",
    "tests.test_get_init_cell(get_init_cell)"
   ]
  },
  {
   "cell_type": "markdown",
   "metadata": {
    "deletable": true,
    "editable": true
   },
   "source": [
    "### Word Embedding\n",
    "Now we'll apply embedding to `input_data` using TensorFlow and return the embedded sequence."
   ]
  },
  {
   "cell_type": "code",
   "execution_count": 10,
   "metadata": {
    "collapsed": false,
    "deletable": true,
    "editable": true
   },
   "outputs": [
    {
     "name": "stdout",
     "output_type": "stream",
     "text": [
      "Tests Passed\n"
     ]
    }
   ],
   "source": [
    "def get_embed(input_data, vocab_size, embed_dim):\n",
    "    \"\"\"\n",
    "    Create embedding for <input_data>.\n",
    "    :param input_data: TF placeholder for text input.\n",
    "    :param vocab_size: Number of words in vocabulary.\n",
    "    :param embed_dim: Number of embedding dimensions\n",
    "    :return: Embedded input.\n",
    "    \"\"\"\n",
    "    embedding = tf.contrib.layers.embed_sequence(input_data,\n",
    "                                                 vocab_size=vocab_size,\n",
    "                                                 embed_dim=embed_dim)\n",
    "    \n",
    "    return embedding\n",
    "\n",
    "\n",
    "tests.test_get_embed(get_embed)"
   ]
  },
  {
   "cell_type": "markdown",
   "metadata": {
    "deletable": true,
    "editable": true
   },
   "source": [
    "### Build RNN\n",
    "We created a RNN Cell in the `get_init_cell()` function. Time to use the cell to create a RNN.\n",
    "- Build the RNN using the [`tf.nn.dynamic_rnn()`](https://www.tensorflow.org/api_docs/python/tf/nn/dynamic_rnn)\n",
    "- Apply the name \"final_state\" to the final state using [`tf.identity()`](https://www.tensorflow.org/api_docs/python/tf/identity)\n",
    "\n",
    "Return the outputs and final_state state in the following tuple `(Outputs, FinalState)` "
   ]
  },
  {
   "cell_type": "code",
   "execution_count": 11,
   "metadata": {
    "collapsed": false,
    "deletable": true,
    "editable": true
   },
   "outputs": [
    {
     "name": "stdout",
     "output_type": "stream",
     "text": [
      "Tests Passed\n"
     ]
    }
   ],
   "source": [
    "def build_rnn(cell, inputs):\n",
    "    \"\"\"\n",
    "    Create a RNN using a RNN Cell\n",
    "    :param cell: RNN Cell\n",
    "    :param inputs: Input text data\n",
    "    :return: Tuple (Outputs, Final State)\n",
    "    \"\"\"\n",
    "    outputs, final_state = tf.nn.dynamic_rnn(cell, inputs, dtype=tf.float32)\n",
    "    final_state = tf.identity(final_state, name=\"final_state\")\n",
    "    \n",
    "    return (outputs, final_state)\n",
    "\n",
    "\n",
    "tests.test_build_rnn(build_rnn)"
   ]
  },
  {
   "cell_type": "markdown",
   "metadata": {
    "deletable": true,
    "editable": true
   },
   "source": [
    "### Build the Neural Network\n",
    "Apply the functions we implemented above to:\n",
    "- Apply embedding to `input_data` using our `get_embed(input_data, vocab_size, embed_dim)` function.\n",
    "- Build RNN using `cell` and our `build_rnn(cell, inputs)` function.\n",
    "- Apply a fully connected layer with a linear activation and `vocab_size` as the number of outputs.\n",
    "\n",
    "Return the logits and final state in the following tuple (Logits, FinalState) "
   ]
  },
  {
   "cell_type": "code",
   "execution_count": 12,
   "metadata": {
    "collapsed": false,
    "deletable": true,
    "editable": true
   },
   "outputs": [
    {
     "name": "stdout",
     "output_type": "stream",
     "text": [
      "Tests Passed\n"
     ]
    }
   ],
   "source": [
    "def build_nn(cell, rnn_size, input_data, vocab_size):\n",
    "    \"\"\"\n",
    "    Build part of the neural network\n",
    "    :param cell: RNN cell\n",
    "    :param rnn_size: Size of rnns\n",
    "    :param input_data: Input data\n",
    "    :param vocab_size: Vocabulary size\n",
    "    :return: Tuple (Logits, FinalState)\n",
    "    \"\"\"\n",
    "    inputs = get_embed(input_data, vocab_size, rnn_size)\n",
    "    outputs, final_state = build_rnn(cell, inputs)\n",
    "    logits = tf.contrib.layers.fully_connected(outputs, vocab_size, activation_fn=None)\n",
    "    \n",
    "    return (logits, final_state)\n",
    "\n",
    "\n",
    "tests.test_build_nn(build_nn)"
   ]
  },
  {
   "cell_type": "markdown",
   "metadata": {
    "deletable": true,
    "editable": true
   },
   "source": [
    "### Batches\n",
    "Implement `get_batches` to create batches of input and targets using `int_text`. The batches should be a Numpy array with the shape `(number of batches, 2, batch size, sequence length)`. Each batch contains two elements:\n",
    "- The first element is a single batch of **input** with the shape `[batch size, sequence length]`\n",
    "- The second element is a single batch of **targets** with the shape `[batch size, sequence length]`\n",
    "\n",
    "If we can't fill the last batch with enough data, drop the last batch."
   ]
  },
  {
   "cell_type": "code",
   "execution_count": 13,
   "metadata": {
    "collapsed": false,
    "deletable": true,
    "editable": true
   },
   "outputs": [
    {
     "name": "stdout",
     "output_type": "stream",
     "text": [
      "Tests Passed\n"
     ]
    }
   ],
   "source": [
    "def get_batches(int_text, batch_size, seq_length):\n",
    "    \"\"\"\n",
    "    Return batches of input and target\n",
    "    :param int_text: Text with the words replaced by their ids\n",
    "    :param batch_size: The size of batch\n",
    "    :param seq_length: The length of sequence\n",
    "    :return: Batches as a Numpy array\n",
    "    \"\"\"\n",
    "    batches = []\n",
    "    n_batches = int(len(int_text) // (batch_size * seq_length))\n",
    "\n",
    "    int_text_x = np.array(int_text[:n_batches * (batch_size * seq_length)])\n",
    "    int_text_y = np.array(int_text[1:n_batches * (batch_size * seq_length) + 1])\n",
    "\n",
    "    x_batches = np.split(int_text_x, n_batches)\n",
    "    y_batches = np.split(int_text_y, n_batches)\n",
    "    for i in range(n_batches):\n",
    "        x = np.split(x_batches[i], batch_size)\n",
    "        y = np.split(y_batches[i], batch_size)\n",
    "        pairs = np.stack((x,y))\n",
    "        batches.append(pairs)\n",
    "\n",
    "    return np.array(batches)\n",
    "\n",
    "\n",
    "tests.test_get_batches(get_batches)"
   ]
  },
  {
   "cell_type": "markdown",
   "metadata": {
    "deletable": true,
    "editable": true
   },
   "source": [
    "## Neural Network Training\n",
    "### Hyperparameters\n",
    "Let's tune our parameters:"
   ]
  },
  {
   "cell_type": "code",
   "execution_count": 14,
   "metadata": {
    "collapsed": true,
    "deletable": true,
    "editable": true
   },
   "outputs": [],
   "source": [
    "# Number of Epochs\n",
    "num_epochs = 100\n",
    "# Batch Size\n",
    "batch_size = 128\n",
    "# RNN Size\n",
    "rnn_size = 256\n",
    "# Sequence Length\n",
    "seq_length = 25\n",
    "# Learning Rate\n",
    "learning_rate = 0.01\n",
    "# Show stats for every n number of batches\n",
    "show_every_n_batches = 10\n",
    "# Save directory\n",
    "save_dir = './save'"
   ]
  },
  {
   "cell_type": "markdown",
   "metadata": {
    "deletable": true,
    "editable": true
   },
   "source": [
    "### Build the Graph\n",
    "Now we can build the graph using the neural network we implemented."
   ]
  },
  {
   "cell_type": "code",
   "execution_count": 15,
   "metadata": {
    "collapsed": false,
    "deletable": true,
    "editable": true
   },
   "outputs": [],
   "source": [
    "from tensorflow.contrib import seq2seq\n",
    "\n",
    "train_graph = tf.Graph()\n",
    "with train_graph.as_default():\n",
    "    vocab_size = len(int_to_vocab)\n",
    "    input_text, targets, lr = get_inputs()\n",
    "    input_data_shape = tf.shape(input_text)\n",
    "    cell, initial_state = get_init_cell(input_data_shape[0], rnn_size)\n",
    "    logits, final_state = build_nn(cell, rnn_size, input_text, vocab_size)\n",
    "\n",
    "    # Probabilities for generating words\n",
    "    probs = tf.nn.softmax(logits, name='probs')\n",
    "\n",
    "    # Loss function\n",
    "    cost = seq2seq.sequence_loss(\n",
    "        logits,\n",
    "        targets,\n",
    "        tf.ones([input_data_shape[0], input_data_shape[1]]))\n",
    "\n",
    "    # Optimizer\n",
    "    optimizer = tf.train.AdamOptimizer(lr)\n",
    "\n",
    "    # Gradient Clipping\n",
    "    gradients = optimizer.compute_gradients(cost)\n",
    "    capped_gradients = [(tf.clip_by_value(grad, -1., 1.), var) for grad, var in gradients]\n",
    "    train_op = optimizer.apply_gradients(capped_gradients)"
   ]
  },
  {
   "cell_type": "markdown",
   "metadata": {
    "deletable": true,
    "editable": true
   },
   "source": [
    "## Train\n",
    "Train the neural network on the preprocessed data."
   ]
  },
  {
   "cell_type": "code",
   "execution_count": 16,
   "metadata": {
    "collapsed": false,
    "deletable": true,
    "editable": true
   },
   "outputs": [
    {
     "name": "stdout",
     "output_type": "stream",
     "text": [
      "Epoch   0 Batch    0/21   train_loss = 8.822\n",
      "Epoch   0 Batch   10/21   train_loss = 6.899\n",
      "Epoch   0 Batch   20/21   train_loss = 6.986\n",
      "Epoch   1 Batch    9/21   train_loss = 6.092\n",
      "Epoch   1 Batch   19/21   train_loss = 6.322\n",
      "Epoch   2 Batch    8/21   train_loss = 6.092\n",
      "Epoch   2 Batch   18/21   train_loss = 6.271\n",
      "Epoch   3 Batch    7/21   train_loss = 5.973\n",
      "Epoch   3 Batch   17/21   train_loss = 6.187\n",
      "Epoch   4 Batch    6/21   train_loss = 6.103\n",
      "Epoch   4 Batch   16/21   train_loss = 6.148\n",
      "Epoch   5 Batch    5/21   train_loss = 5.912\n",
      "Epoch   5 Batch   15/21   train_loss = 5.977\n",
      "Epoch   6 Batch    4/21   train_loss = 5.796\n",
      "Epoch   6 Batch   14/21   train_loss = 5.719\n",
      "Epoch   7 Batch    3/21   train_loss = 5.609\n",
      "Epoch   7 Batch   13/21   train_loss = 5.654\n",
      "Epoch   8 Batch    2/21   train_loss = 5.471\n",
      "Epoch   8 Batch   12/21   train_loss = 5.430\n",
      "Epoch   9 Batch    1/21   train_loss = 5.293\n",
      "Epoch   9 Batch   11/21   train_loss = 5.199\n",
      "Epoch  10 Batch    0/21   train_loss = 5.019\n",
      "Epoch  10 Batch   10/21   train_loss = 4.992\n",
      "Epoch  10 Batch   20/21   train_loss = 4.875\n",
      "Epoch  11 Batch    9/21   train_loss = 4.717\n",
      "Epoch  11 Batch   19/21   train_loss = 4.806\n",
      "Epoch  12 Batch    8/21   train_loss = 4.500\n",
      "Epoch  12 Batch   18/21   train_loss = 4.660\n",
      "Epoch  13 Batch    7/21   train_loss = 4.427\n",
      "Epoch  13 Batch   17/21   train_loss = 4.490\n",
      "Epoch  14 Batch    6/21   train_loss = 4.402\n",
      "Epoch  14 Batch   16/21   train_loss = 4.505\n",
      "Epoch  15 Batch    5/21   train_loss = 4.292\n",
      "Epoch  15 Batch   15/21   train_loss = 4.299\n",
      "Epoch  16 Batch    4/21   train_loss = 4.169\n",
      "Epoch  16 Batch   14/21   train_loss = 4.255\n",
      "Epoch  17 Batch    3/21   train_loss = 4.083\n",
      "Epoch  17 Batch   13/21   train_loss = 4.016\n",
      "Epoch  18 Batch    2/21   train_loss = 3.994\n",
      "Epoch  18 Batch   12/21   train_loss = 3.947\n",
      "Epoch  19 Batch    1/21   train_loss = 3.867\n",
      "Epoch  19 Batch   11/21   train_loss = 3.794\n",
      "Epoch  20 Batch    0/21   train_loss = 3.728\n",
      "Epoch  20 Batch   10/21   train_loss = 3.739\n",
      "Epoch  20 Batch   20/21   train_loss = 3.667\n",
      "Epoch  21 Batch    9/21   train_loss = 3.573\n",
      "Epoch  21 Batch   19/21   train_loss = 3.614\n",
      "Epoch  22 Batch    8/21   train_loss = 3.491\n",
      "Epoch  22 Batch   18/21   train_loss = 3.450\n",
      "Epoch  23 Batch    7/21   train_loss = 3.406\n",
      "Epoch  23 Batch   17/21   train_loss = 3.284\n",
      "Epoch  24 Batch    6/21   train_loss = 3.234\n",
      "Epoch  24 Batch   16/21   train_loss = 3.232\n",
      "Epoch  25 Batch    5/21   train_loss = 3.192\n",
      "Epoch  25 Batch   15/21   train_loss = 3.093\n",
      "Epoch  26 Batch    4/21   train_loss = 3.079\n",
      "Epoch  26 Batch   14/21   train_loss = 3.198\n",
      "Epoch  27 Batch    3/21   train_loss = 2.958\n",
      "Epoch  27 Batch   13/21   train_loss = 2.942\n",
      "Epoch  28 Batch    2/21   train_loss = 2.907\n",
      "Epoch  28 Batch   12/21   train_loss = 2.895\n",
      "Epoch  29 Batch    1/21   train_loss = 2.836\n",
      "Epoch  29 Batch   11/21   train_loss = 2.787\n",
      "Epoch  30 Batch    0/21   train_loss = 2.773\n",
      "Epoch  30 Batch   10/21   train_loss = 2.742\n",
      "Epoch  30 Batch   20/21   train_loss = 2.743\n",
      "Epoch  31 Batch    9/21   train_loss = 2.637\n",
      "Epoch  31 Batch   19/21   train_loss = 2.764\n",
      "Epoch  32 Batch    8/21   train_loss = 2.664\n",
      "Epoch  32 Batch   18/21   train_loss = 2.630\n",
      "Epoch  33 Batch    7/21   train_loss = 2.644\n",
      "Epoch  33 Batch   17/21   train_loss = 2.480\n",
      "Epoch  34 Batch    6/21   train_loss = 2.442\n",
      "Epoch  34 Batch   16/21   train_loss = 2.429\n",
      "Epoch  35 Batch    5/21   train_loss = 2.456\n",
      "Epoch  35 Batch   15/21   train_loss = 2.265\n",
      "Epoch  36 Batch    4/21   train_loss = 2.339\n",
      "Epoch  36 Batch   14/21   train_loss = 2.455\n",
      "Epoch  37 Batch    3/21   train_loss = 2.302\n",
      "Epoch  37 Batch   13/21   train_loss = 2.199\n",
      "Epoch  38 Batch    2/21   train_loss = 2.142\n",
      "Epoch  38 Batch   12/21   train_loss = 2.113\n",
      "Epoch  39 Batch    1/21   train_loss = 2.057\n",
      "Epoch  39 Batch   11/21   train_loss = 2.068\n",
      "Epoch  40 Batch    0/21   train_loss = 2.010\n",
      "Epoch  40 Batch   10/21   train_loss = 1.943\n",
      "Epoch  40 Batch   20/21   train_loss = 1.944\n",
      "Epoch  41 Batch    9/21   train_loss = 1.919\n",
      "Epoch  41 Batch   19/21   train_loss = 1.947\n",
      "Epoch  42 Batch    8/21   train_loss = 1.985\n",
      "Epoch  42 Batch   18/21   train_loss = 1.841\n",
      "Epoch  43 Batch    7/21   train_loss = 1.915\n",
      "Epoch  43 Batch   17/21   train_loss = 1.663\n",
      "Epoch  44 Batch    6/21   train_loss = 1.693\n",
      "Epoch  44 Batch   16/21   train_loss = 1.661\n",
      "Epoch  45 Batch    5/21   train_loss = 1.703\n",
      "Epoch  45 Batch   15/21   train_loss = 1.600\n",
      "Epoch  46 Batch    4/21   train_loss = 1.610\n",
      "Epoch  46 Batch   14/21   train_loss = 1.674\n",
      "Epoch  47 Batch    3/21   train_loss = 1.593\n",
      "Epoch  47 Batch   13/21   train_loss = 1.496\n",
      "Epoch  48 Batch    2/21   train_loss = 1.540\n",
      "Epoch  48 Batch   12/21   train_loss = 1.497\n",
      "Epoch  49 Batch    1/21   train_loss = 1.485\n",
      "Epoch  49 Batch   11/21   train_loss = 1.445\n",
      "Epoch  50 Batch    0/21   train_loss = 1.429\n",
      "Epoch  50 Batch   10/21   train_loss = 1.390\n",
      "Epoch  50 Batch   20/21   train_loss = 1.369\n",
      "Epoch  51 Batch    9/21   train_loss = 1.361\n",
      "Epoch  51 Batch   19/21   train_loss = 1.335\n",
      "Epoch  52 Batch    8/21   train_loss = 1.463\n",
      "Epoch  52 Batch   18/21   train_loss = 1.280\n",
      "Epoch  53 Batch    7/21   train_loss = 1.413\n",
      "Epoch  53 Batch   17/21   train_loss = 1.174\n",
      "Epoch  54 Batch    6/21   train_loss = 1.192\n",
      "Epoch  54 Batch   16/21   train_loss = 1.167\n",
      "Epoch  55 Batch    5/21   train_loss = 1.203\n",
      "Epoch  55 Batch   15/21   train_loss = 1.134\n",
      "Epoch  56 Batch    4/21   train_loss = 1.171\n",
      "Epoch  56 Batch   14/21   train_loss = 1.239\n",
      "Epoch  57 Batch    3/21   train_loss = 1.175\n",
      "Epoch  57 Batch   13/21   train_loss = 1.084\n",
      "Epoch  58 Batch    2/21   train_loss = 1.110\n",
      "Epoch  58 Batch   12/21   train_loss = 1.102\n",
      "Epoch  59 Batch    1/21   train_loss = 1.107\n",
      "Epoch  59 Batch   11/21   train_loss = 1.072\n",
      "Epoch  60 Batch    0/21   train_loss = 1.098\n",
      "Epoch  60 Batch   10/21   train_loss = 1.046\n",
      "Epoch  60 Batch   20/21   train_loss = 1.061\n",
      "Epoch  61 Batch    9/21   train_loss = 1.053\n",
      "Epoch  61 Batch   19/21   train_loss = 1.060\n",
      "Epoch  62 Batch    8/21   train_loss = 1.158\n",
      "Epoch  62 Batch   18/21   train_loss = 0.987\n",
      "Epoch  63 Batch    7/21   train_loss = 1.129\n",
      "Epoch  63 Batch   17/21   train_loss = 0.890\n",
      "Epoch  64 Batch    6/21   train_loss = 0.897\n",
      "Epoch  64 Batch   16/21   train_loss = 0.875\n",
      "Epoch  65 Batch    5/21   train_loss = 0.906\n",
      "Epoch  65 Batch   15/21   train_loss = 0.854\n",
      "Epoch  66 Batch    4/21   train_loss = 0.888\n",
      "Epoch  66 Batch   14/21   train_loss = 0.941\n",
      "Epoch  67 Batch    3/21   train_loss = 0.902\n",
      "Epoch  67 Batch   13/21   train_loss = 0.828\n",
      "Epoch  68 Batch    2/21   train_loss = 0.860\n",
      "Epoch  68 Batch   12/21   train_loss = 0.813\n",
      "Epoch  69 Batch    1/21   train_loss = 0.838\n",
      "Epoch  69 Batch   11/21   train_loss = 0.839\n",
      "Epoch  70 Batch    0/21   train_loss = 0.814\n",
      "Epoch  70 Batch   10/21   train_loss = 0.783\n",
      "Epoch  70 Batch   20/21   train_loss = 0.798\n",
      "Epoch  71 Batch    9/21   train_loss = 0.800\n",
      "Epoch  71 Batch   19/21   train_loss = 0.754\n",
      "Epoch  72 Batch    8/21   train_loss = 0.895\n",
      "Epoch  72 Batch   18/21   train_loss = 0.716\n",
      "Epoch  73 Batch    7/21   train_loss = 0.859\n",
      "Epoch  73 Batch   17/21   train_loss = 0.659\n",
      "Epoch  74 Batch    6/21   train_loss = 0.683\n",
      "Epoch  74 Batch   16/21   train_loss = 0.667\n",
      "Epoch  75 Batch    5/21   train_loss = 0.708\n",
      "Epoch  75 Batch   15/21   train_loss = 0.681\n",
      "Epoch  76 Batch    4/21   train_loss = 0.694\n",
      "Epoch  76 Batch   14/21   train_loss = 0.737\n",
      "Epoch  77 Batch    3/21   train_loss = 0.711\n",
      "Epoch  77 Batch   13/21   train_loss = 0.654\n",
      "Epoch  78 Batch    2/21   train_loss = 0.675\n",
      "Epoch  78 Batch   12/21   train_loss = 0.645\n",
      "Epoch  79 Batch    1/21   train_loss = 0.662\n",
      "Epoch  79 Batch   11/21   train_loss = 0.651\n",
      "Epoch  80 Batch    0/21   train_loss = 0.626\n",
      "Epoch  80 Batch   10/21   train_loss = 0.599\n",
      "Epoch  80 Batch   20/21   train_loss = 0.632\n",
      "Epoch  81 Batch    9/21   train_loss = 0.646\n",
      "Epoch  81 Batch   19/21   train_loss = 0.649\n",
      "Epoch  82 Batch    8/21   train_loss = 0.755\n",
      "Epoch  82 Batch   18/21   train_loss = 0.602\n",
      "Epoch  83 Batch    7/21   train_loss = 0.724\n",
      "Epoch  83 Batch   17/21   train_loss = 0.546\n",
      "Epoch  84 Batch    6/21   train_loss = 0.570\n",
      "Epoch  84 Batch   16/21   train_loss = 0.538\n",
      "Epoch  85 Batch    5/21   train_loss = 0.544\n",
      "Epoch  85 Batch   15/21   train_loss = 0.552\n",
      "Epoch  86 Batch    4/21   train_loss = 0.551\n",
      "Epoch  86 Batch   14/21   train_loss = 0.612\n",
      "Epoch  87 Batch    3/21   train_loss = 0.600\n",
      "Epoch  87 Batch   13/21   train_loss = 0.550\n",
      "Epoch  88 Batch    2/21   train_loss = 0.579\n",
      "Epoch  88 Batch   12/21   train_loss = 0.551\n",
      "Epoch  89 Batch    1/21   train_loss = 0.561\n",
      "Epoch  89 Batch   11/21   train_loss = 0.530\n",
      "Epoch  90 Batch    0/21   train_loss = 0.503\n",
      "Epoch  90 Batch   10/21   train_loss = 0.484\n",
      "Epoch  90 Batch   20/21   train_loss = 0.532\n",
      "Epoch  91 Batch    9/21   train_loss = 0.512\n",
      "Epoch  91 Batch   19/21   train_loss = 0.483\n",
      "Epoch  92 Batch    8/21   train_loss = 0.582\n",
      "Epoch  92 Batch   18/21   train_loss = 0.434\n",
      "Epoch  93 Batch    7/21   train_loss = 0.551\n",
      "Epoch  93 Batch   17/21   train_loss = 0.408\n",
      "Epoch  94 Batch    6/21   train_loss = 0.439\n",
      "Epoch  94 Batch   16/21   train_loss = 0.391\n",
      "Epoch  95 Batch    5/21   train_loss = 0.406\n",
      "Epoch  95 Batch   15/21   train_loss = 0.407\n",
      "Epoch  96 Batch    4/21   train_loss = 0.378\n",
      "Epoch  96 Batch   14/21   train_loss = 0.410\n",
      "Epoch  97 Batch    3/21   train_loss = 0.407\n",
      "Epoch  97 Batch   13/21   train_loss = 0.364\n",
      "Epoch  98 Batch    2/21   train_loss = 0.373\n",
      "Epoch  98 Batch   12/21   train_loss = 0.333\n",
      "Epoch  99 Batch    1/21   train_loss = 0.366\n",
      "Epoch  99 Batch   11/21   train_loss = 0.348\n",
      "Model Trained and Saved\n"
     ]
    }
   ],
   "source": [
    "batches = get_batches(int_text, batch_size, seq_length)\n",
    "\n",
    "with tf.Session(graph=train_graph) as sess:\n",
    "    sess.run(tf.global_variables_initializer())\n",
    "\n",
    "    for epoch_i in range(num_epochs):\n",
    "        state = sess.run(initial_state, {input_text: batches[0][0]})\n",
    "\n",
    "        for batch_i, (x, y) in enumerate(batches):\n",
    "            feed = {\n",
    "                input_text: x,\n",
    "                targets: y,\n",
    "                initial_state: state,\n",
    "                lr: learning_rate}\n",
    "            train_loss, state, _ = sess.run([cost, final_state, train_op], feed)\n",
    "\n",
    "            # Show every <show_every_n_batches> batches\n",
    "            if (epoch_i * len(batches) + batch_i) % show_every_n_batches == 0:\n",
    "                print('Epoch {:>3} Batch {:>4}/{}   train_loss = {:.3f}'.format(\n",
    "                    epoch_i,\n",
    "                    batch_i,\n",
    "                    len(batches),\n",
    "                    train_loss))\n",
    "\n",
    "    # Save Model\n",
    "    saver = tf.train.Saver()\n",
    "    saver.save(sess, save_dir)\n",
    "    print('Model Trained and Saved')"
   ]
  },
  {
   "cell_type": "markdown",
   "metadata": {
    "deletable": true,
    "editable": true
   },
   "source": [
    "## Save Parameters\n",
    "Save `seq_length` and `save_dir` for generating a new TV script."
   ]
  },
  {
   "cell_type": "code",
   "execution_count": 17,
   "metadata": {
    "collapsed": false,
    "deletable": true,
    "editable": true
   },
   "outputs": [],
   "source": [
    "# Save parameters for checkpoint\n",
    "helper.save_params((seq_length, save_dir))"
   ]
  },
  {
   "cell_type": "markdown",
   "metadata": {
    "deletable": true,
    "editable": true
   },
   "source": [
    "# Checkpoint"
   ]
  },
  {
   "cell_type": "code",
   "execution_count": 18,
   "metadata": {
    "collapsed": false,
    "deletable": true,
    "editable": true
   },
   "outputs": [],
   "source": [
    "import tensorflow as tf\n",
    "import numpy as np\n",
    "import helper\n",
    "import problem_unittests as tests\n",
    "\n",
    "_, vocab_to_int, int_to_vocab, token_dict = helper.load_preprocess()\n",
    "seq_length, load_dir = helper.load_params()"
   ]
  },
  {
   "cell_type": "markdown",
   "metadata": {
    "deletable": true,
    "editable": true
   },
   "source": [
    "## Implement Generate Functions\n",
    "### Get Tensors\n",
    "Get tensors from `loaded_graph` using the function [`get_tensor_by_name()`](https://www.tensorflow.org/api_docs/python/tf/Graph#get_tensor_by_name).  Get the tensors using the following names:\n",
    "- \"input:0\"\n",
    "- \"initial_state:0\"\n",
    "- \"final_state:0\"\n",
    "- \"probs:0\"\n",
    "\n",
    "Return the tensors in the following tuple `(InputTensor, InitialStateTensor, FinalStateTensor, ProbsTensor)` "
   ]
  },
  {
   "cell_type": "code",
   "execution_count": 19,
   "metadata": {
    "collapsed": false,
    "deletable": true,
    "editable": true
   },
   "outputs": [
    {
     "name": "stdout",
     "output_type": "stream",
     "text": [
      "Tests Passed\n"
     ]
    }
   ],
   "source": [
    "def get_tensors(loaded_graph):\n",
    "    \"\"\"\n",
    "    Get input, initial state, final state, and probabilities tensor from <loaded_graph>\n",
    "    :param loaded_graph: TensorFlow graph loaded from file\n",
    "    :return: Tuple (InputTensor, InitialStateTensor, FinalStateTensor, ProbsTensor)\n",
    "    \"\"\"\n",
    "    input_tensor = loaded_graph.get_tensor_by_name(\"input:0\")\n",
    "    initial_state_tensor = loaded_graph.get_tensor_by_name(\"initial_state:0\")\n",
    "    final_state_tensor = loaded_graph.get_tensor_by_name(\"final_state:0\")\n",
    "    probs_tensor = loaded_graph.get_tensor_by_name(\"probs:0\")\n",
    "    \n",
    "    return (input_tensor, initial_state_tensor, final_state_tensor, probs_tensor)\n",
    "\n",
    "\n",
    "tests.test_get_tensors(get_tensors)"
   ]
  },
  {
   "cell_type": "markdown",
   "metadata": {
    "deletable": true,
    "editable": true
   },
   "source": [
    "### Choose Word\n",
    "Implement the `pick_word()` function to select the next word using `probabilities`."
   ]
  },
  {
   "cell_type": "code",
   "execution_count": 20,
   "metadata": {
    "collapsed": false,
    "deletable": true,
    "editable": true
   },
   "outputs": [
    {
     "name": "stdout",
     "output_type": "stream",
     "text": [
      "Tests Passed\n"
     ]
    }
   ],
   "source": [
    "def pick_word(probabilities, int_to_vocab):\n",
    "    \"\"\"\n",
    "    Pick the next word in the generated text\n",
    "    :param probabilities: Probabilites of the next word\n",
    "    :param int_to_vocab: Dictionary of word ids as the keys and words as the values\n",
    "    :return: String of the predicted word\n",
    "    \"\"\"\n",
    "    max_id = np.argmax(probabilities)\n",
    "    \n",
    "    return int_to_vocab[max_id]\n",
    "\n",
    "\n",
    "tests.test_pick_word(pick_word)"
   ]
  },
  {
   "cell_type": "markdown",
   "metadata": {
    "deletable": true,
    "editable": true
   },
   "source": [
    "## Generate TV Script\n",
    "This will generate the TV script for us. Set `gen_length` to the length of TV script you want to generate."
   ]
  },
  {
   "cell_type": "code",
   "execution_count": 21,
   "metadata": {
    "collapsed": false,
    "deletable": true,
    "editable": true
   },
   "outputs": [
    {
     "name": "stdout",
     "output_type": "stream",
     "text": [
      "moe_szyslak:(sighs) what's the point?... same ol' stinkin' world... ah, this post-suicide afterglow gets shorter every man.\n",
      "moe_szyslak:(reading) right.\n",
      "moe_szyslak:(almost homer) oh, you've been ghouls and everything.\n",
      "homer_simpson:(on tape, in the first thing i am.\n",
      "moe_szyslak:(loud sotto) great. i think i could whip just me, i wanna have a clone?\n",
      "homer_simpson:(quickly) wow! no, but then i didn't do it.\n",
      "homer_simpson:(sobs) oh, no. move 'em on.\n",
      "chief_wiggum: yeah, listen, free.\n",
      "moe_szyslak: uh-oh. my name my life cleaned to the wind...(nervous chuckle)\n",
      "homer_simpson:(beat) in unison) are?\n",
      "moe_szyslak: yeah, this is my treasure.!\n",
      "homer_simpson: oh, i'm afraid the bartender for all real last night?\n",
      "moe_szyslak: what was this was to.\n",
      "moe_szyslak: what do you call that boy.\n",
      "carl_carlson:(to live at)...\n"
     ]
    }
   ],
   "source": [
    "gen_length = 200\n",
    "# homer_simpson, moe_szyslak, or Barney_Gumble\n",
    "prime_word = 'moe_szyslak'\n",
    "\n",
    "# Load graph and start session\n",
    "loaded_graph = tf.Graph()\n",
    "with tf.Session(graph=loaded_graph) as sess:\n",
    "    # Load saved model\n",
    "    loader = tf.train.import_meta_graph(load_dir + '.meta')\n",
    "    loader.restore(sess, load_dir)\n",
    "\n",
    "    # Get Tensors from loaded model\n",
    "    input_text, initial_state, final_state, probs = get_tensors(loaded_graph)\n",
    "\n",
    "    # Sentences generation setup\n",
    "    gen_sentences = [prime_word + ':']\n",
    "    prev_state = sess.run(initial_state, {input_text: np.array([[1]])})\n",
    "\n",
    "    # Generate sentences\n",
    "    for n in range(gen_length):\n",
    "        # Dynamic Input\n",
    "        dyn_input = [[vocab_to_int[word] for word in gen_sentences[-seq_length:]]]\n",
    "        dyn_seq_length = len(dyn_input[0])\n",
    "\n",
    "        # Get Prediction\n",
    "        probabilities, prev_state = sess.run(\n",
    "            [probs, final_state],\n",
    "            {input_text: dyn_input, initial_state: prev_state})\n",
    "        \n",
    "        pred_word = pick_word(probabilities[dyn_seq_length-1], int_to_vocab)\n",
    "\n",
    "        gen_sentences.append(pred_word)\n",
    "    \n",
    "    # Remove tokens\n",
    "    tv_script = ' '.join(gen_sentences)\n",
    "    for key, token in token_dict.items():\n",
    "        ending = ' ' if key in ['\\n', '(', '\"'] else ''\n",
    "        tv_script = tv_script.replace(' ' + token.lower(), key)\n",
    "    tv_script = tv_script.replace('\\n ', '\\n')\n",
    "    tv_script = tv_script.replace('( ', '(')\n",
    "        \n",
    "    print(tv_script)"
   ]
  },
  {
   "cell_type": "markdown",
   "metadata": {
    "deletable": true,
    "editable": true
   },
   "source": [
    "# The TV Script is Nonsensical\n",
    "It's ok if the TV script doesn't make any sense.  We trained on less than a megabyte of text. In order to get good results, we'll have to use a smaller vocabulary or get more data. Luckly there's more data! As we mentioned in the begging of this project, this is a subset of [another dataset](https://www.kaggle.com/wcukierski/the-simpsons-by-the-data)."
   ]
  }
 ],
 "metadata": {
  "kernelspec": {
   "display_name": "Python 3",
   "language": "python",
   "name": "python3"
  },
  "language_info": {
   "codemirror_mode": {
    "name": "ipython",
    "version": 3
   },
   "file_extension": ".py",
   "mimetype": "text/x-python",
   "name": "python",
   "nbconvert_exporter": "python",
   "pygments_lexer": "ipython3",
   "version": "3.5.2"
  }
 },
 "nbformat": 4,
 "nbformat_minor": 0
}
